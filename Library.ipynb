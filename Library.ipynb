{
  "nbformat": 4,
  "nbformat_minor": 0,
  "metadata": {
    "colab": {
      "provenance": [],
      "authorship_tag": "ABX9TyM0Fn8t5C6+ysFiTCEYgbEX",
      "include_colab_link": true
    },
    "kernelspec": {
      "name": "python3",
      "display_name": "Python 3"
    },
    "language_info": {
      "name": "python"
    }
  },
  "cells": [
    {
      "cell_type": "markdown",
      "metadata": {
        "id": "view-in-github",
        "colab_type": "text"
      },
      "source": [
        "<a href=\"https://colab.research.google.com/github/zeynepsadikayilmaz/patika.dev-sql-odev-1/blob/main/Library.ipynb\" target=\"_parent\"><img src=\"https://colab.research.google.com/assets/colab-badge.svg\" alt=\"Open In Colab\"/></a>"
      ]
    },
    {
      "cell_type": "code",
      "source": [
        "class Library:\n",
        "    def __init__(self):\n",
        "        try:\n",
        "            self.file = open(\"books.txt\", \"a+\")\n",
        "        except FileNotFoundError:\n",
        "            self.file = open(\"books.txt\", \"w+\")\n",
        "\n",
        "    def __del__(self):\n",
        "        self.file.close()\n",
        "\n",
        "    def list_books(self):\n",
        "        self.file.seek(0)\n",
        "        kitap_listesi = self.file.read().splitlines()\n",
        "        if not kitap_listesi:\n",
        "            print(\"No books found.\")\n",
        "        else:\n",
        "            print(\"List of books:\")\n",
        "            for line in kitap_listesi:\n",
        "                book_info = line.split(\",\")\n",
        "                if len(book_info) == 4:\n",
        "                    kitap_adi, yazar_adi, yayin_yili, sayfa_sayisi = book_info\n",
        "                    print(f\"Kitap Adi: {kitap_adi}, Yazar Adi: {yazar_adi}, Yayin Yili: {yayin_yili}, Sayfa Sayisi: {sayfa_sayisi}\")\n",
        "                else:\n",
        "                    print(\"Kitap kaydında geçersiz format:\", line)\n",
        "\n",
        "    def add_book(self):\n",
        "        kitap_adi = input(\"Kitap Ismini Giriniz: \")\n",
        "        yazar_adi = input(\"Yazarin Adini Giriniz: \")\n",
        "        yayin_yili = input(\"Yayin Yili Giriniz: \")\n",
        "        sayfa_sayisi = input(\"Sayfa Sayisi Giriniz: \")\n",
        "\n",
        "        kitap_bilgisi = f\"{kitap_adi},{yazar_adi},{yayin_yili},{sayfa_sayisi}\\n\"\n",
        "        self.file.write(kitap_bilgisi)\n",
        "        print(f\"'{kitap_adi}' isimli kitap eklendi.\")\n",
        "\n",
        "    def remove_book(self):\n",
        "        silinecek_kitap_adi = input(\"Silinecek kitap adını giriniz: \").strip().lower()\n",
        "\n",
        "        self.file.seek(0)\n",
        "        kitap_listesi = self.file.readlines()\n",
        "        updated_kitap_listesi = [line for line in kitap_listesi if silinecek_kitap_adi not in line.strip().lower()]\n",
        "\n",
        "        self.file.seek(0)\n",
        "        self.file.truncate()\n",
        "        for line in updated_kitap_listesi:\n",
        "            self.file.write(line)\n",
        "\n",
        "        print(f\"'{silinecek_kitap_adi}' isimli kitap silindi\")\n",
        "\n",
        "lib = Library()\n",
        "\n",
        "while True:\n",
        "    print(\" MENU \")\n",
        "    print(\"1) Kitaplari Listele\")\n",
        "    print(\"2) Kitap ekle\")\n",
        "    print(\"3) Kitap sil\")\n",
        "    print(\"q) Çıkış\")\n",
        "\n",
        "    menu_secimi = input(\"Seçeneklerden birini tercih ediniz (1, 2, 3, or q): \")\n",
        "\n",
        "    if menu_secimi == \"1\":\n",
        "        lib.list_books()\n",
        "    elif menu_secimi == \"2\":\n",
        "        lib.add_book()\n",
        "    elif menu_secimi == \"3\":\n",
        "        lib.remove_book()\n",
        "    elif menu_secimi.lower() == \"q\":\n",
        "        print(\"Çıkış Yapıldı.\")\n",
        "        break\n",
        "    else:\n",
        "        print(\"Geçersiz seçim. Lütfen bunlardan birini seçin: 1, 2, 3, or q.\")\n",
        "\n"
      ],
      "metadata": {
        "colab": {
          "base_uri": "https://localhost:8080/"
        },
        "id": "jF4jHu4zhvoe",
        "outputId": "d0ade2a3-7e50-41c7-d1c2-5eddacb6decd"
      },
      "execution_count": null,
      "outputs": [
        {
          "output_type": "stream",
          "name": "stdout",
          "text": [
            " MENU \n",
            "1) Kitaplari Listele\n",
            "2) Kitap ekle\n",
            "3) Kitap sil\n",
            "q) Çıkış\n"
          ]
        }
      ]
    }
  ]
}